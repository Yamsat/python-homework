{
 "cells": [
  {
   "cell_type": "code",
   "execution_count": 3,
   "id": "9e78031c-f84a-43e4-9165-326b3d733082",
   "metadata": {},
   "outputs": [],
   "source": [
    "import pandas as pd"
   ]
  },
  {
   "cell_type": "code",
   "execution_count": 82,
   "id": "3c344e07-dea6-492d-b333-a04a6dfbcd80",
   "metadata": {},
   "outputs": [],
   "source": [
    "pl = pd.read_csv('budget_data.csv') "
   ]
  },
  {
   "cell_type": "code",
   "execution_count": 83,
   "id": "a37587f0-ec27-4371-81e4-ed3961006c7b",
   "metadata": {},
   "outputs": [
    {
     "data": {
      "text/html": [
       "<div>\n",
       "<style scoped>\n",
       "    .dataframe tbody tr th:only-of-type {\n",
       "        vertical-align: middle;\n",
       "    }\n",
       "\n",
       "    .dataframe tbody tr th {\n",
       "        vertical-align: top;\n",
       "    }\n",
       "\n",
       "    .dataframe thead th {\n",
       "        text-align: right;\n",
       "    }\n",
       "</style>\n",
       "<table border=\"1\" class=\"dataframe\">\n",
       "  <thead>\n",
       "    <tr style=\"text-align: right;\">\n",
       "      <th></th>\n",
       "      <th>Date</th>\n",
       "      <th>Profit/Losses</th>\n",
       "    </tr>\n",
       "  </thead>\n",
       "  <tbody>\n",
       "    <tr>\n",
       "      <th>0</th>\n",
       "      <td>Jan-2010</td>\n",
       "      <td>867884</td>\n",
       "    </tr>\n",
       "    <tr>\n",
       "      <th>1</th>\n",
       "      <td>Feb-2010</td>\n",
       "      <td>984655</td>\n",
       "    </tr>\n",
       "    <tr>\n",
       "      <th>2</th>\n",
       "      <td>Mar-2010</td>\n",
       "      <td>322013</td>\n",
       "    </tr>\n",
       "    <tr>\n",
       "      <th>3</th>\n",
       "      <td>Apr-2010</td>\n",
       "      <td>-69417</td>\n",
       "    </tr>\n",
       "    <tr>\n",
       "      <th>4</th>\n",
       "      <td>May-2010</td>\n",
       "      <td>310503</td>\n",
       "    </tr>\n",
       "  </tbody>\n",
       "</table>\n",
       "</div>"
      ],
      "text/plain": [
       "       Date  Profit/Losses\n",
       "0  Jan-2010         867884\n",
       "1  Feb-2010         984655\n",
       "2  Mar-2010         322013\n",
       "3  Apr-2010         -69417\n",
       "4  May-2010         310503"
      ]
     },
     "execution_count": 83,
     "metadata": {},
     "output_type": "execute_result"
    }
   ],
   "source": [
    "pl.head()"
   ]
  },
  {
   "cell_type": "code",
   "execution_count": 84,
   "id": "29db2b0e-d215-4058-9513-95b2e95a3b04",
   "metadata": {},
   "outputs": [
    {
     "data": {
      "text/html": [
       "<div>\n",
       "<style scoped>\n",
       "    .dataframe tbody tr th:only-of-type {\n",
       "        vertical-align: middle;\n",
       "    }\n",
       "\n",
       "    .dataframe tbody tr th {\n",
       "        vertical-align: top;\n",
       "    }\n",
       "\n",
       "    .dataframe thead th {\n",
       "        text-align: right;\n",
       "    }\n",
       "</style>\n",
       "<table border=\"1\" class=\"dataframe\">\n",
       "  <thead>\n",
       "    <tr style=\"text-align: right;\">\n",
       "      <th></th>\n",
       "      <th>Date</th>\n",
       "      <th>Profit/Losses</th>\n",
       "    </tr>\n",
       "  </thead>\n",
       "  <tbody>\n",
       "    <tr>\n",
       "      <th>81</th>\n",
       "      <td>Oct-2016</td>\n",
       "      <td>102685</td>\n",
       "    </tr>\n",
       "    <tr>\n",
       "      <th>82</th>\n",
       "      <td>Nov-2016</td>\n",
       "      <td>795914</td>\n",
       "    </tr>\n",
       "    <tr>\n",
       "      <th>83</th>\n",
       "      <td>Dec-2016</td>\n",
       "      <td>60988</td>\n",
       "    </tr>\n",
       "    <tr>\n",
       "      <th>84</th>\n",
       "      <td>Jan-2017</td>\n",
       "      <td>138230</td>\n",
       "    </tr>\n",
       "    <tr>\n",
       "      <th>85</th>\n",
       "      <td>Feb-2017</td>\n",
       "      <td>671099</td>\n",
       "    </tr>\n",
       "  </tbody>\n",
       "</table>\n",
       "</div>"
      ],
      "text/plain": [
       "        Date  Profit/Losses\n",
       "81  Oct-2016         102685\n",
       "82  Nov-2016         795914\n",
       "83  Dec-2016          60988\n",
       "84  Jan-2017         138230\n",
       "85  Feb-2017         671099"
      ]
     },
     "execution_count": 84,
     "metadata": {},
     "output_type": "execute_result"
    }
   ],
   "source": [
    "pl.tail()"
   ]
  },
  {
   "cell_type": "code",
   "execution_count": 85,
   "id": "600717ca-a619-47c0-94f0-6bf95cbb2bfa",
   "metadata": {},
   "outputs": [],
   "source": [
    "total_month = len(pl)"
   ]
  },
  {
   "cell_type": "code",
   "execution_count": 86,
   "id": "1d46c70e-3b37-4773-a663-367312c9f98c",
   "metadata": {},
   "outputs": [
    {
     "data": {
      "text/plain": [
       "86"
      ]
     },
     "execution_count": 86,
     "metadata": {},
     "output_type": "execute_result"
    }
   ],
   "source": [
    "total_month"
   ]
  },
  {
   "cell_type": "code",
   "execution_count": 87,
   "id": "2ea7d189-3964-461f-99f0-61e278c529b0",
   "metadata": {},
   "outputs": [],
   "source": [
    "total_pl = pl[\"Profit/Losses\"].sum()"
   ]
  },
  {
   "cell_type": "code",
   "execution_count": 88,
   "id": "59ba42fe-c950-4730-be6f-36f11cbf5ea2",
   "metadata": {},
   "outputs": [
    {
     "data": {
      "text/plain": [
       "38382578"
      ]
     },
     "execution_count": 88,
     "metadata": {},
     "output_type": "execute_result"
    }
   ],
   "source": [
    "total_pl"
   ]
  },
  {
   "cell_type": "code",
   "execution_count": 89,
   "id": "30656b9b-0343-4d9c-9a47-d155b55e1ac9",
   "metadata": {},
   "outputs": [],
   "source": [
    "average_change = pl[\"Profit/Losses\"].diff().mean()"
   ]
  },
  {
   "cell_type": "code",
   "execution_count": 90,
   "id": "ce0cd9e8-ccc1-481f-8fa1-bc06d2b5ec9e",
   "metadata": {},
   "outputs": [],
   "source": [
    "average_change = round(average_change, 2)"
   ]
  },
  {
   "cell_type": "code",
   "execution_count": 91,
   "id": "9da06711-875b-42ce-80f5-3420a3151b19",
   "metadata": {},
   "outputs": [
    {
     "data": {
      "text/plain": [
       "-2315.12"
      ]
     },
     "execution_count": 91,
     "metadata": {},
     "output_type": "execute_result"
    }
   ],
   "source": [
    "average_change"
   ]
  },
  {
   "cell_type": "code",
   "execution_count": 92,
   "id": "3a5187df-6ec8-4b3b-92f7-70d04b0f6aaa",
   "metadata": {},
   "outputs": [],
   "source": [
    "greatest_increase_month = pl.iloc[pl[\"Profit/Losses\"].diff().idxmax()][\"Date\"]"
   ]
  },
  {
   "cell_type": "code",
   "execution_count": 93,
   "id": "12c0ac54-8d53-4ed7-8f38-a9b89ac12c3e",
   "metadata": {},
   "outputs": [
    {
     "data": {
      "text/plain": [
       "'Feb-2012'"
      ]
     },
     "execution_count": 93,
     "metadata": {},
     "output_type": "execute_result"
    }
   ],
   "source": [
    "greatest_increase_month"
   ]
  },
  {
   "cell_type": "code",
   "execution_count": 94,
   "id": "12c1ba40-3385-4c14-8fc0-abe5c7228fba",
   "metadata": {},
   "outputs": [],
   "source": [
    "greatest_increase = pl.loc[pl[\"Date\"] == greatest_increase_month, \"Profit/Losses\"] - pl[\"Profit/Losses\"].shift(1).loc[pl[\"Date\"] == greatest_increase_month]"
   ]
  },
  {
   "cell_type": "code",
   "execution_count": 95,
   "id": "7f2acfd5-d10e-4739-969a-1094bb898f81",
   "metadata": {},
   "outputs": [],
   "source": [
    "greatest_increase = greatest_increase.iloc[0]"
   ]
  },
  {
   "cell_type": "code",
   "execution_count": 96,
   "id": "5fec57e2-13f1-4b29-81ba-d45482fded5e",
   "metadata": {},
   "outputs": [
    {
     "data": {
      "text/plain": [
       "1926159.0"
      ]
     },
     "execution_count": 96,
     "metadata": {},
     "output_type": "execute_result"
    }
   ],
   "source": [
    "greatest_increase"
   ]
  },
  {
   "cell_type": "code",
   "execution_count": 97,
   "id": "f8b2c03e-9d7d-45d8-b18b-ac19e89f1ada",
   "metadata": {},
   "outputs": [],
   "source": [
    "greatest_decrease_month = pl.iloc[pl[\"Profit/Losses\"].diff().idxmin()][\"Date\"]"
   ]
  },
  {
   "cell_type": "code",
   "execution_count": 98,
   "id": "ed93b4dd-f52e-46b1-853f-059021463d0a",
   "metadata": {},
   "outputs": [
    {
     "data": {
      "text/plain": [
       "'Sep-2013'"
      ]
     },
     "execution_count": 98,
     "metadata": {},
     "output_type": "execute_result"
    }
   ],
   "source": [
    "greatest_decrease_month"
   ]
  },
  {
   "cell_type": "code",
   "execution_count": 99,
   "id": "6575477d-82fe-48e5-86f8-fddba2179880",
   "metadata": {},
   "outputs": [],
   "source": [
    "greatest_decrease = pl.loc[pl[\"Date\"] == greatest_decrease_month, \"Profit/Losses\"] - pl[\"Profit/Losses\"].shift(1).loc[pl[\"Date\"] == greatest_decrease_month]"
   ]
  },
  {
   "cell_type": "code",
   "execution_count": 100,
   "id": "5e030269-80ef-4dd4-8d75-a0919d325e2b",
   "metadata": {},
   "outputs": [],
   "source": [
    "greatest_decrease = greatest_decrease.iloc[0]"
   ]
  },
  {
   "cell_type": "code",
   "execution_count": 101,
   "id": "23ffaba8-406c-46db-b12d-c03dc1b368c9",
   "metadata": {},
   "outputs": [
    {
     "data": {
      "text/plain": [
       "-2196167.0"
      ]
     },
     "execution_count": 101,
     "metadata": {},
     "output_type": "execute_result"
    }
   ],
   "source": [
    "greatest_decrease"
   ]
  },
  {
   "cell_type": "code",
   "execution_count": 105,
   "id": "1a0ed830-285f-4be3-ba79-7b7d8c578548",
   "metadata": {},
   "outputs": [],
   "source": [
    "financial_analysis = f\"\"\"Financial anlaysis \n",
    "-----------------------------\n",
    "Total Months: {total_month}\n",
    "Total: ${total_pl}\n",
    "Average Change: ${average_change}\n",
    "Greatest Increase in Profits: {greatest_increase_month} ${greatest_increase}\n",
    "Greatest Decrease in Profits: {greatest_decrease_month} ${greatest_decrease}\"\"\""
   ]
  },
  {
   "cell_type": "code",
   "execution_count": 106,
   "id": "27ffc440-1b91-42b5-bdb4-da71f39b37aa",
   "metadata": {},
   "outputs": [],
   "source": [
    "with open('financial_analysis.txt', 'w', encoding='utf-8') as file:\n",
    "    file.write(financial_analysis)"
   ]
  },
  {
   "cell_type": "code",
   "execution_count": null,
   "id": "e72e524e-6ddb-4691-8223-dbdfa541b3d2",
   "metadata": {},
   "outputs": [],
   "source": []
  }
 ],
 "metadata": {
  "kernelspec": {
   "display_name": "Python 3",
   "language": "python",
   "name": "python3"
  },
  "language_info": {
   "codemirror_mode": {
    "name": "ipython",
    "version": 3
   },
   "file_extension": ".py",
   "mimetype": "text/x-python",
   "name": "python",
   "nbconvert_exporter": "python",
   "pygments_lexer": "ipython3",
   "version": "3.6.7"
  }
 },
 "nbformat": 4,
 "nbformat_minor": 5
}
