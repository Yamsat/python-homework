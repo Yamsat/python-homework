{
 "cells": [
  {
   "cell_type": "code",
   "execution_count": 2,
   "id": "4980aa96-2195-4aab-9ecd-b727c149ff99",
   "metadata": {},
   "outputs": [],
   "source": [
    "import csv"
   ]
  },
  {
   "cell_type": "code",
   "execution_count": 3,
   "id": "f6ced082-b7d8-4f01-8bb6-79ccb7e58905",
   "metadata": {},
   "outputs": [],
   "source": [
    "menu = []"
   ]
  },
  {
   "cell_type": "code",
   "execution_count": 4,
   "id": "751d81b7-b116-424c-ac00-2f4ca66830b4",
   "metadata": {},
   "outputs": [],
   "source": [
    "with open('menu_data.csv', 'r') as file:\n",
    "    reader = csv.reader(file)\n",
    "    next(reader)\n",
    "    for row in reader:\n",
    "        menu.append(row)"
   ]
  },
  {
   "cell_type": "code",
   "execution_count": 5,
   "id": "ee58bf61-1b85-4b8e-97aa-f953642f2bed",
   "metadata": {},
   "outputs": [],
   "source": [
    "sales = []"
   ]
  },
  {
   "cell_type": "code",
   "execution_count": 6,
   "id": "34605642-d629-436f-99f2-e32bc326a56e",
   "metadata": {},
   "outputs": [],
   "source": [
    "with open('sales_data.csv', 'r') as file:\n",
    "    reader = csv.reader(file)\n",
    "    next(reader)\n",
    "    for row in reader:\n",
    "        sales.append(row)"
   ]
  },
  {
   "cell_type": "code",
   "execution_count": 7,
   "id": "cf0ae626-a61b-439d-8754-d403358bb406",
   "metadata": {},
   "outputs": [],
   "source": [
    "report = {}"
   ]
  },
  {
   "cell_type": "code",
   "execution_count": 8,
   "id": "49d845d3-6e9a-4ee3-b16f-83ba811f0bd3",
   "metadata": {},
   "outputs": [],
   "source": [
    "for sale in sales:\n",
    "    quantity = int(sale[3])\n",
    "    sales_item = sale[4]\n",
    "    if sales_item not in report:\n",
    "        report[sales_item] = {}\n",
    "        report[sales_item][\"01-count\"] = 0\n",
    "        report[sales_item][\"02-revenue\"] = 0\n",
    "        report[sales_item][\"03-cogs\"] = 0\n",
    "        report[sales_item][\"04-profit\"] = 0\n",
    "    for ramen in menu:\n",
    "        item = ramen[0]\n",
    "        price = float(ramen[3])\n",
    "        cost = int(ramen[4])\n",
    "        if sales_item == item:\n",
    "            report[sales_item][\"01-count\"] += quantity\n",
    "            report[sales_item][\"02-revenue\"] += quantity * price\n",
    "            report[sales_item][\"03-cogs\"] += quantity * cost\n",
    "            report[sales_item][\"04-profit\"] += (quantity * price - quantity * cost)\n",
    "        ##else:\n",
    "            ##print(f\"{sales_item} does not equal {item}! NO MATCH!\")  "
   ]
  },
  {
   "cell_type": "code",
   "execution_count": 9,
   "id": "63c1d301-db54-4f8e-b314-804d281c62df",
   "metadata": {},
   "outputs": [],
   "source": [
    "text = \"\"\n",
    "for k, v in report.items():\n",
    "    text += (f\"{k} {v}\\n\")"
   ]
  },
  {
   "cell_type": "code",
   "execution_count": 10,
   "id": "c77933ec-21a7-4968-9820-d7d4e8a4172b",
   "metadata": {},
   "outputs": [],
   "source": [
    "with open('pyramen_report.txt', 'w', encoding='utf-8') as file:\n",
    "    file.write(text)"
   ]
  },
  {
   "cell_type": "code",
   "execution_count": null,
   "id": "2a408988-ad52-45ad-8a94-85bc39045c8b",
   "metadata": {},
   "outputs": [],
   "source": []
  }
 ],
 "metadata": {
  "kernelspec": {
   "display_name": "Python 3",
   "language": "python",
   "name": "python3"
  },
  "language_info": {
   "codemirror_mode": {
    "name": "ipython",
    "version": 3
   },
   "file_extension": ".py",
   "mimetype": "text/x-python",
   "name": "python",
   "nbconvert_exporter": "python",
   "pygments_lexer": "ipython3",
   "version": "3.6.7"
  }
 },
 "nbformat": 4,
 "nbformat_minor": 5
}
