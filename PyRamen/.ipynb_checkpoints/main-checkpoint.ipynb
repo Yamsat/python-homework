{
 "cells": [
  {
   "cell_type": "code",
   "execution_count": 105,
   "id": "4980aa96-2195-4aab-9ecd-b727c149ff99",
   "metadata": {},
   "outputs": [],
   "source": [
    "import csv\n",
    "from pathlib import Path"
   ]
  },
  {
   "cell_type": "code",
   "execution_count": 136,
   "id": "f6ced082-b7d8-4f01-8bb6-79ccb7e58905",
   "metadata": {},
   "outputs": [],
   "source": [
    "menu = []"
   ]
  },
  {
   "cell_type": "code",
   "execution_count": 137,
   "id": "751d81b7-b116-424c-ac00-2f4ca66830b4",
   "metadata": {},
   "outputs": [],
   "source": [
    "with open('menu_data.csv', 'r') as file:\n",
    "    reader = csv.reader(file)\n",
    "    next(reader)\n",
    "    for row in reader:\n",
    "        menu.append(row)"
   ]
  },
  {
   "cell_type": "code",
   "execution_count": 139,
   "id": "ee58bf61-1b85-4b8e-97aa-f953642f2bed",
   "metadata": {},
   "outputs": [],
   "source": [
    "sales = []"
   ]
  },
  {
   "cell_type": "code",
   "execution_count": 140,
   "id": "34605642-d629-436f-99f2-e32bc326a56e",
   "metadata": {},
   "outputs": [],
   "source": [
    "with open('sales_data.csv', 'r') as file:\n",
    "    reader = csv.reader(file)\n",
    "    next(reader)\n",
    "    for row in reader:\n",
    "        sales.append(row)"
   ]
  },
  {
   "cell_type": "code",
   "execution_count": 141,
   "id": "cf0ae626-a61b-439d-8754-d403358bb406",
   "metadata": {},
   "outputs": [],
   "source": [
    "report = {}"
   ]
  },
  {
   "cell_type": "code",
   "execution_count": 143,
   "id": "bfffed54-f5b4-4b76-8a00-96372c7a5f9e",
   "metadata": {},
   "outputs": [],
   "source": [
    "for ramen in menu:\n",
    "    report[ramen[0]] = {}"
   ]
  },
  {
   "cell_type": "code",
   "execution_count": 156,
   "id": "957eb1cb-5b02-4926-b12a-fc0faf4a6cd0",
   "metadata": {},
   "outputs": [],
   "source": [
    "for i in sales:\n",
    "    if i[4] not in report:\n",
    "        print(i[4] + \" is not in the report.\")"
   ]
  },
  {
   "cell_type": "code",
   "execution_count": 159,
   "id": "7ca42c40-7a3f-460e-86dc-dadf04932401",
   "metadata": {},
   "outputs": [],
   "source": [
    "for k in report.keys():\n",
    "    report[k][\"01-count\"] = 0\n",
    "    for i in sales:\n",
    "        menu_item = i[4]\n",
    "        quantity = int(i[3])\n",
    "        if k == menu_item:\n",
    "            report[k][\"01-count\"] += quantity"
   ]
  },
  {
   "cell_type": "code",
   "execution_count": 161,
   "id": "70610ec4-3032-41b4-aac7-14e2806f99cd",
   "metadata": {},
   "outputs": [],
   "source": [
    "for k in report.keys():\n",
    "    for i in menu:\n",
    "        item = i[0]\n",
    "        if k == item:\n",
    "            price = float(i[3])\n",
    "            cost = int(i[4])\n",
    "            report[k][\"02-revenue\"] = price * report[k][\"01-count\"]\n",
    "            report[k][\"03-cogs\"] = cost * report[k][\"01-count\"]"
   ]
  },
  {
   "cell_type": "code",
   "execution_count": 162,
   "id": "47c8f43d-2ce7-4c03-bee8-77c02244e8f9",
   "metadata": {},
   "outputs": [],
   "source": [
    "for k in report.keys():\n",
    "    report[k][\"04-profit\"] = report[k][\"02-revenue\"] - report[k][\"03-cogs\"]"
   ]
  },
  {
   "cell_type": "code",
   "execution_count": 164,
   "id": "6265e339-17fc-49de-9152-35f262f1bc1a",
   "metadata": {},
   "outputs": [],
   "source": [
    "text = \"\"\n",
    "for k, v in report.items():\n",
    "    text += (f\"{k} {v}\\n\")"
   ]
  },
  {
   "cell_type": "code",
   "execution_count": 165,
   "id": "3bf2914e-7e6f-4c7c-959a-c397130791df",
   "metadata": {},
   "outputs": [
    {
     "data": {
      "text/plain": [
       "\"edamame {'01-count': 0, '02-revenue': 0.0, '03-cogs': 0, '04-profit': 0.0}\\nhouse salad {'01-count': 0, '02-revenue': 0.0, '03-cogs': 0, '04-profit': 0.0}\\ncucumber sunomono salad {'01-count': 0, '02-revenue': 0.0, '03-cogs': 0, '04-profit': 0.0}\\nhiyashi wakame seaweed salad {'01-count': 0, '02-revenue': 0.0, '03-cogs': 0, '04-profit': 0.0}\\nagedashi tofu {'01-count': 0, '02-revenue': 0.0, '03-cogs': 0, '04-profit': 0.0}\\nhiyayakko tofu {'01-count': 0, '02-revenue': 0.0, '03-cogs': 0, '04-profit': 0.0}\\npork floss bao {'01-count': 0, '02-revenue': 0.0, '03-cogs': 0, '04-profit': 0.0}\\nkakuni bao {'01-count': 0, '02-revenue': 0.0, '03-cogs': 0, '04-profit': 0.0}\\nedamame fried gyoza (vegan) {'01-count': 0, '02-revenue': 0.0, '03-cogs': 0, '04-profit': 0.0}\\nfried gyoza {'01-count': 0, '02-revenue': 0.0, '03-cogs': 0, '04-profit': 0.0}\\ntakoyaki {'01-count': 0, '02-revenue': 0.0, '03-cogs': 0, '04-profit': 0.0}\\nrock shrimp tempura {'01-count': 0, '02-revenue': 0.0, '03-cogs': 0, '04-profit': 0.0}\\nsoft-shell crab tempura {'01-count': 0, '02-revenue': 0.0, '03-cogs': 0, '04-profit': 0.0}\\nebi katsu shrimp bao {'01-count': 0, '02-revenue': 0.0, '03-cogs': 0, '04-profit': 0.0}\\nnagomi shoyu {'01-count': 9132, '02-revenue': 100452.0, '03-cogs': 45660, '04-profit': 54792.0}\\nshio ramen {'01-count': 9180, '02-revenue': 100980.0, '03-cogs': 45900, '04-profit': 55080.0}\\nspicy miso ramen {'01-count': 9238, '02-revenue': 110856.0, '03-cogs': 46190, '04-profit': 64666.0}\\nvegetarian spicy miso {'01-count': 9216, '02-revenue': 110592.0, '03-cogs': 46080, '04-profit': 64512.0}\\nmiso crab ramen {'01-count': 8890, '02-revenue': 106680.0, '03-cogs': 53340, '04-profit': 53340.0}\\nsoft-shell miso crab ramen {'01-count': 9130, '02-revenue': 127820.0, '03-cogs': 63910, '04-profit': 63910.0}\\ntori paitan ramen {'01-count': 9156, '02-revenue': 119028.0, '03-cogs': 54936, '04-profit': 64092.0}\\ntonkotsu ramen {'01-count': 9288, '02-revenue': 120744.0, '03-cogs': 55728, '04-profit': 65016.0}\\nburnt garlic tonkotsu ramen {'01-count': 9070, '02-revenue': 126980.0, '03-cogs': 54420, '04-profit': 72560.0}\\nvegetarian curry + king trumpet mushroom ramen {'01-count': 8824, '02-revenue': 114712.0, '03-cogs': 61768, '04-profit': 52944.0}\\ntruffle butter ramen {'01-count': 8982, '02-revenue': 125748.0, '03-cogs': 62874, '04-profit': 62874.0}\\ngreen tea {'01-count': 0, '02-revenue': 0.0, '03-cogs': 0, '04-profit': 0.0}\\ncoke {'01-count': 0, '02-revenue': 0.0, '03-cogs': 0, '04-profit': 0.0}\\nblack sesame ice cream {'01-count': 0, '02-revenue': 0.0, '03-cogs': 0, '04-profit': 0.0}\\nmatcha ice cream {'01-count': 0, '02-revenue': 0.0, '03-cogs': 0, '04-profit': 0.0}\\nmango mochi ice cream {'01-count': 0, '02-revenue': 0.0, '03-cogs': 0, '04-profit': 0.0}\\nstrawberry mochi ice cream {'01-count': 0, '02-revenue': 0.0, '03-cogs': 0, '04-profit': 0.0}\\nblack sesame creme brulee {'01-count': 0, '02-revenue': 0.0, '03-cogs': 0, '04-profit': 0.0}\\n\""
      ]
     },
     "execution_count": 165,
     "metadata": {},
     "output_type": "execute_result"
    }
   ],
   "source": [
    "text"
   ]
  },
  {
   "cell_type": "code",
   "execution_count": null,
   "id": "49d845d3-6e9a-4ee3-b16f-83ba811f0bd3",
   "metadata": {},
   "outputs": [],
   "source": []
  }
 ],
 "metadata": {
  "kernelspec": {
   "display_name": "Python 3",
   "language": "python",
   "name": "python3"
  },
  "language_info": {
   "codemirror_mode": {
    "name": "ipython",
    "version": 3
   },
   "file_extension": ".py",
   "mimetype": "text/x-python",
   "name": "python",
   "nbconvert_exporter": "python",
   "pygments_lexer": "ipython3",
   "version": "3.6.7"
  }
 },
 "nbformat": 4,
 "nbformat_minor": 5
}
