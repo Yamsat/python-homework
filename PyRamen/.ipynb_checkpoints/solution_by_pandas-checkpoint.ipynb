{
 "cells": [
  {
   "cell_type": "code",
   "execution_count": 1,
   "id": "04368f41-ca09-4bf9-bf65-3d63fe500ace",
   "metadata": {},
   "outputs": [],
   "source": [
    "import pandas as pd"
   ]
  },
  {
   "cell_type": "code",
   "execution_count": 2,
   "id": "3378cd4b-11c7-441d-ae15-6111b2ab96d6",
   "metadata": {},
   "outputs": [],
   "source": [
    "sales = pd.read_csv(\"sales_data.csv\")"
   ]
  },
  {
   "cell_type": "code",
   "execution_count": 3,
   "id": "56950c4a-2491-428d-88ee-596d672683d4",
   "metadata": {},
   "outputs": [
    {
     "data": {
      "text/html": [
       "<div>\n",
       "<style scoped>\n",
       "    .dataframe tbody tr th:only-of-type {\n",
       "        vertical-align: middle;\n",
       "    }\n",
       "\n",
       "    .dataframe tbody tr th {\n",
       "        vertical-align: top;\n",
       "    }\n",
       "\n",
       "    .dataframe thead th {\n",
       "        text-align: right;\n",
       "    }\n",
       "</style>\n",
       "<table border=\"1\" class=\"dataframe\">\n",
       "  <thead>\n",
       "    <tr style=\"text-align: right;\">\n",
       "      <th></th>\n",
       "      <th>Line_Item_ID</th>\n",
       "      <th>Date</th>\n",
       "      <th>Credit_Card_Number</th>\n",
       "      <th>Quantity</th>\n",
       "      <th>Menu_Item</th>\n",
       "    </tr>\n",
       "  </thead>\n",
       "  <tbody>\n",
       "    <tr>\n",
       "      <th>0</th>\n",
       "      <td>1</td>\n",
       "      <td>01-01-2017</td>\n",
       "      <td>7437926611570799</td>\n",
       "      <td>1</td>\n",
       "      <td>spicy miso ramen</td>\n",
       "    </tr>\n",
       "    <tr>\n",
       "      <th>1</th>\n",
       "      <td>2</td>\n",
       "      <td>01-01-2017</td>\n",
       "      <td>7437926611570799</td>\n",
       "      <td>1</td>\n",
       "      <td>spicy miso ramen</td>\n",
       "    </tr>\n",
       "    <tr>\n",
       "      <th>2</th>\n",
       "      <td>3</td>\n",
       "      <td>01-01-2017</td>\n",
       "      <td>8421920068932819</td>\n",
       "      <td>3</td>\n",
       "      <td>tori paitan ramen</td>\n",
       "    </tr>\n",
       "    <tr>\n",
       "      <th>3</th>\n",
       "      <td>4</td>\n",
       "      <td>01-01-2017</td>\n",
       "      <td>8421920068932819</td>\n",
       "      <td>3</td>\n",
       "      <td>tori paitan ramen</td>\n",
       "    </tr>\n",
       "    <tr>\n",
       "      <th>4</th>\n",
       "      <td>5</td>\n",
       "      <td>01-01-2017</td>\n",
       "      <td>4787310681569648</td>\n",
       "      <td>1</td>\n",
       "      <td>truffle butter ramen</td>\n",
       "    </tr>\n",
       "  </tbody>\n",
       "</table>\n",
       "</div>"
      ],
      "text/plain": [
       "   Line_Item_ID        Date  Credit_Card_Number  Quantity  \\\n",
       "0             1  01-01-2017    7437926611570799         1   \n",
       "1             2  01-01-2017    7437926611570799         1   \n",
       "2             3  01-01-2017    8421920068932819         3   \n",
       "3             4  01-01-2017    8421920068932819         3   \n",
       "4             5  01-01-2017    4787310681569648         1   \n",
       "\n",
       "              Menu_Item  \n",
       "0      spicy miso ramen  \n",
       "1      spicy miso ramen  \n",
       "2     tori paitan ramen  \n",
       "3     tori paitan ramen  \n",
       "4  truffle butter ramen  "
      ]
     },
     "execution_count": 3,
     "metadata": {},
     "output_type": "execute_result"
    }
   ],
   "source": [
    "sales.head()"
   ]
  },
  {
   "cell_type": "code",
   "execution_count": 4,
   "id": "77d8fb01-6384-4eec-a3c2-4328cd79d644",
   "metadata": {},
   "outputs": [],
   "source": [
    "menu = pd.read_csv(\"menu_data.csv\")"
   ]
  },
  {
   "cell_type": "code",
   "execution_count": 5,
   "id": "5844844d-47b8-43d4-9dd3-3a8130696565",
   "metadata": {},
   "outputs": [
    {
     "data": {
      "text/html": [
       "<div>\n",
       "<style scoped>\n",
       "    .dataframe tbody tr th:only-of-type {\n",
       "        vertical-align: middle;\n",
       "    }\n",
       "\n",
       "    .dataframe tbody tr th {\n",
       "        vertical-align: top;\n",
       "    }\n",
       "\n",
       "    .dataframe thead th {\n",
       "        text-align: right;\n",
       "    }\n",
       "</style>\n",
       "<table border=\"1\" class=\"dataframe\">\n",
       "  <thead>\n",
       "    <tr style=\"text-align: right;\">\n",
       "      <th></th>\n",
       "      <th>item</th>\n",
       "      <th>category</th>\n",
       "      <th>description</th>\n",
       "      <th>price</th>\n",
       "      <th>cost</th>\n",
       "    </tr>\n",
       "  </thead>\n",
       "  <tbody>\n",
       "    <tr>\n",
       "      <th>0</th>\n",
       "      <td>edamame</td>\n",
       "      <td>appetizers</td>\n",
       "      <td>boiled soybeans, maldon sea salt</td>\n",
       "      <td>4.0</td>\n",
       "      <td>1</td>\n",
       "    </tr>\n",
       "    <tr>\n",
       "      <th>1</th>\n",
       "      <td>house salad</td>\n",
       "      <td>appetizers</td>\n",
       "      <td>mixed greens, cherry tomatoes, cucumber, house...</td>\n",
       "      <td>4.0</td>\n",
       "      <td>2</td>\n",
       "    </tr>\n",
       "    <tr>\n",
       "      <th>2</th>\n",
       "      <td>cucumber sunomono salad</td>\n",
       "      <td>appetizers</td>\n",
       "      <td>cucumber, ponzu dressing, pickled ginger sprou...</td>\n",
       "      <td>5.0</td>\n",
       "      <td>2</td>\n",
       "    </tr>\n",
       "    <tr>\n",
       "      <th>3</th>\n",
       "      <td>hiyashi wakame seaweed salad</td>\n",
       "      <td>appetizers</td>\n",
       "      <td>sweet soy-marinated wakame seaweed threads, pi...</td>\n",
       "      <td>5.0</td>\n",
       "      <td>2</td>\n",
       "    </tr>\n",
       "    <tr>\n",
       "      <th>4</th>\n",
       "      <td>agedashi tofu</td>\n",
       "      <td>appetizers</td>\n",
       "      <td>tempura battered tofu, katsuobushi, tsuyu brot...</td>\n",
       "      <td>5.0</td>\n",
       "      <td>2</td>\n",
       "    </tr>\n",
       "  </tbody>\n",
       "</table>\n",
       "</div>"
      ],
      "text/plain": [
       "                           item    category  \\\n",
       "0                       edamame  appetizers   \n",
       "1                   house salad  appetizers   \n",
       "2       cucumber sunomono salad  appetizers   \n",
       "3  hiyashi wakame seaweed salad  appetizers   \n",
       "4                 agedashi tofu  appetizers   \n",
       "\n",
       "                                         description  price  cost  \n",
       "0                   boiled soybeans, maldon sea salt    4.0     1  \n",
       "1  mixed greens, cherry tomatoes, cucumber, house...    4.0     2  \n",
       "2  cucumber, ponzu dressing, pickled ginger sprou...    5.0     2  \n",
       "3  sweet soy-marinated wakame seaweed threads, pi...    5.0     2  \n",
       "4  tempura battered tofu, katsuobushi, tsuyu brot...    5.0     2  "
      ]
     },
     "execution_count": 5,
     "metadata": {},
     "output_type": "execute_result"
    }
   ],
   "source": [
    "menu.head()"
   ]
  },
  {
   "cell_type": "code",
   "execution_count": 6,
   "id": "4af9ee87-4b0f-4035-9fdd-da2658f6db9b",
   "metadata": {},
   "outputs": [
    {
     "data": {
      "text/plain": [
       "Menu_Item\n",
       "burnt garlic tonkotsu ramen                       9070\n",
       "miso crab ramen                                   8890\n",
       "nagomi shoyu                                      9132\n",
       "shio ramen                                        9180\n",
       "soft-shell miso crab ramen                        9130\n",
       "spicy miso ramen                                  9238\n",
       "tonkotsu ramen                                    9288\n",
       "tori paitan ramen                                 9156\n",
       "truffle butter ramen                              8982\n",
       "vegetarian curry + king trumpet mushroom ramen    8824\n",
       "vegetarian spicy miso                             9216\n",
       "Name: Quantity, dtype: int64"
      ]
     },
     "execution_count": 6,
     "metadata": {},
     "output_type": "execute_result"
    }
   ],
   "source": [
    "sales.groupby(\"Menu_Item\")[\"Quantity\"].sum()"
   ]
  },
  {
   "cell_type": "code",
   "execution_count": 8,
   "id": "a6f78703-b4df-4b54-a476-7b04968f718e",
   "metadata": {},
   "outputs": [],
   "source": [
    "quantity = sales.groupby(\"Menu_Item\")[\"Quantity\"].sum().reset_index()"
   ]
  },
  {
   "cell_type": "code",
   "execution_count": 9,
   "id": "f0394fea-2f49-48d3-9eaa-3112803c9367",
   "metadata": {},
   "outputs": [],
   "source": [
    "joined = pd.merge(menu, quantity, left_on=\"item\", right_on=\"Menu_Item\", how=\"left\") "
   ]
  },
  {
   "cell_type": "code",
   "execution_count": 10,
   "id": "cdd5e283-7317-4349-b3ff-499eccbbc2b8",
   "metadata": {},
   "outputs": [],
   "source": [
    "joined = joined.dropna().reset_index()"
   ]
  },
  {
   "cell_type": "code",
   "execution_count": 12,
   "id": "f0da046c-07bd-4b36-b09d-4e65fc10e8e3",
   "metadata": {},
   "outputs": [],
   "source": [
    "joined[\"revenue\"] = joined[\"price\"] * joined[\"Quantity\"]                                                   \n"
   ]
  },
  {
   "cell_type": "code",
   "execution_count": 13,
   "id": "c7595ff9-1228-40de-bf35-99dcbd173804",
   "metadata": {},
   "outputs": [],
   "source": [
    "joined[\"cogs\"] = joined[\"cost\"] * joined[\"Quantity\"]\n"
   ]
  },
  {
   "cell_type": "code",
   "execution_count": 14,
   "id": "8c3bc7f2-21a3-4e8e-b595-ce88bcf14002",
   "metadata": {},
   "outputs": [],
   "source": [
    "joined[\"profit\"] = joined[\"revenue\"] - joined[\"cogs\"]\n"
   ]
  },
  {
   "cell_type": "code",
   "execution_count": 15,
   "id": "6a23efe7-e623-4e69-88fb-e9d3200d0d18",
   "metadata": {},
   "outputs": [],
   "source": [
    "joined.drop(columns=[\"index\", \"item\", \"category\", \"description\", \"price\", \"cost\"], inplace=True)"
   ]
  },
  {
   "cell_type": "code",
   "execution_count": 16,
   "id": "943f510c-7a2b-4ac0-9795-4a3f460cea6d",
   "metadata": {},
   "outputs": [
    {
     "data": {
      "text/html": [
       "<div>\n",
       "<style scoped>\n",
       "    .dataframe tbody tr th:only-of-type {\n",
       "        vertical-align: middle;\n",
       "    }\n",
       "\n",
       "    .dataframe tbody tr th {\n",
       "        vertical-align: top;\n",
       "    }\n",
       "\n",
       "    .dataframe thead th {\n",
       "        text-align: right;\n",
       "    }\n",
       "</style>\n",
       "<table border=\"1\" class=\"dataframe\">\n",
       "  <thead>\n",
       "    <tr style=\"text-align: right;\">\n",
       "      <th></th>\n",
       "      <th>Menu_Item</th>\n",
       "      <th>Quantity</th>\n",
       "      <th>revenue</th>\n",
       "      <th>cogs</th>\n",
       "      <th>profit</th>\n",
       "    </tr>\n",
       "  </thead>\n",
       "  <tbody>\n",
       "    <tr>\n",
       "      <th>0</th>\n",
       "      <td>nagomi shoyu</td>\n",
       "      <td>9132.0</td>\n",
       "      <td>100452.0</td>\n",
       "      <td>45660.0</td>\n",
       "      <td>54792.0</td>\n",
       "    </tr>\n",
       "    <tr>\n",
       "      <th>1</th>\n",
       "      <td>shio ramen</td>\n",
       "      <td>9180.0</td>\n",
       "      <td>100980.0</td>\n",
       "      <td>45900.0</td>\n",
       "      <td>55080.0</td>\n",
       "    </tr>\n",
       "    <tr>\n",
       "      <th>2</th>\n",
       "      <td>spicy miso ramen</td>\n",
       "      <td>9238.0</td>\n",
       "      <td>110856.0</td>\n",
       "      <td>46190.0</td>\n",
       "      <td>64666.0</td>\n",
       "    </tr>\n",
       "    <tr>\n",
       "      <th>3</th>\n",
       "      <td>vegetarian spicy miso</td>\n",
       "      <td>9216.0</td>\n",
       "      <td>110592.0</td>\n",
       "      <td>46080.0</td>\n",
       "      <td>64512.0</td>\n",
       "    </tr>\n",
       "    <tr>\n",
       "      <th>4</th>\n",
       "      <td>miso crab ramen</td>\n",
       "      <td>8890.0</td>\n",
       "      <td>106680.0</td>\n",
       "      <td>53340.0</td>\n",
       "      <td>53340.0</td>\n",
       "    </tr>\n",
       "    <tr>\n",
       "      <th>5</th>\n",
       "      <td>soft-shell miso crab ramen</td>\n",
       "      <td>9130.0</td>\n",
       "      <td>127820.0</td>\n",
       "      <td>63910.0</td>\n",
       "      <td>63910.0</td>\n",
       "    </tr>\n",
       "    <tr>\n",
       "      <th>6</th>\n",
       "      <td>tori paitan ramen</td>\n",
       "      <td>9156.0</td>\n",
       "      <td>119028.0</td>\n",
       "      <td>54936.0</td>\n",
       "      <td>64092.0</td>\n",
       "    </tr>\n",
       "    <tr>\n",
       "      <th>7</th>\n",
       "      <td>tonkotsu ramen</td>\n",
       "      <td>9288.0</td>\n",
       "      <td>120744.0</td>\n",
       "      <td>55728.0</td>\n",
       "      <td>65016.0</td>\n",
       "    </tr>\n",
       "    <tr>\n",
       "      <th>8</th>\n",
       "      <td>burnt garlic tonkotsu ramen</td>\n",
       "      <td>9070.0</td>\n",
       "      <td>126980.0</td>\n",
       "      <td>54420.0</td>\n",
       "      <td>72560.0</td>\n",
       "    </tr>\n",
       "    <tr>\n",
       "      <th>9</th>\n",
       "      <td>vegetarian curry + king trumpet mushroom ramen</td>\n",
       "      <td>8824.0</td>\n",
       "      <td>114712.0</td>\n",
       "      <td>61768.0</td>\n",
       "      <td>52944.0</td>\n",
       "    </tr>\n",
       "    <tr>\n",
       "      <th>10</th>\n",
       "      <td>truffle butter ramen</td>\n",
       "      <td>8982.0</td>\n",
       "      <td>125748.0</td>\n",
       "      <td>62874.0</td>\n",
       "      <td>62874.0</td>\n",
       "    </tr>\n",
       "  </tbody>\n",
       "</table>\n",
       "</div>"
      ],
      "text/plain": [
       "                                         Menu_Item  Quantity   revenue  \\\n",
       "0                                     nagomi shoyu    9132.0  100452.0   \n",
       "1                                       shio ramen    9180.0  100980.0   \n",
       "2                                 spicy miso ramen    9238.0  110856.0   \n",
       "3                            vegetarian spicy miso    9216.0  110592.0   \n",
       "4                                  miso crab ramen    8890.0  106680.0   \n",
       "5                       soft-shell miso crab ramen    9130.0  127820.0   \n",
       "6                                tori paitan ramen    9156.0  119028.0   \n",
       "7                                   tonkotsu ramen    9288.0  120744.0   \n",
       "8                      burnt garlic tonkotsu ramen    9070.0  126980.0   \n",
       "9   vegetarian curry + king trumpet mushroom ramen    8824.0  114712.0   \n",
       "10                            truffle butter ramen    8982.0  125748.0   \n",
       "\n",
       "       cogs   profit  \n",
       "0   45660.0  54792.0  \n",
       "1   45900.0  55080.0  \n",
       "2   46190.0  64666.0  \n",
       "3   46080.0  64512.0  \n",
       "4   53340.0  53340.0  \n",
       "5   63910.0  63910.0  \n",
       "6   54936.0  64092.0  \n",
       "7   55728.0  65016.0  \n",
       "8   54420.0  72560.0  \n",
       "9   61768.0  52944.0  \n",
       "10  62874.0  62874.0  "
      ]
     },
     "execution_count": 16,
     "metadata": {},
     "output_type": "execute_result"
    }
   ],
   "source": [
    "joined"
   ]
  },
  {
   "cell_type": "code",
   "execution_count": null,
   "id": "b20c0844-5c13-4ef8-823d-62a2674b9c3b",
   "metadata": {},
   "outputs": [],
   "source": []
  }
 ],
 "metadata": {
  "kernelspec": {
   "display_name": "Python 3",
   "language": "python",
   "name": "python3"
  },
  "language_info": {
   "codemirror_mode": {
    "name": "ipython",
    "version": 3
   },
   "file_extension": ".py",
   "mimetype": "text/x-python",
   "name": "python",
   "nbconvert_exporter": "python",
   "pygments_lexer": "ipython3",
   "version": "3.6.7"
  }
 },
 "nbformat": 4,
 "nbformat_minor": 5
}
